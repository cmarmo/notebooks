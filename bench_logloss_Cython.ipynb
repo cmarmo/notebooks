{
 "cells": [
  {
   "cell_type": "markdown",
   "metadata": {},
   "source": [
    "# Benchmark Performance For Log Loss = Binary Cross Entropy\n",
    "## Numpy vs different Cython implementations\n",
    "With $\\eta = \\mathrm{raw\\_prediction}$ and $\\mathrm{y_{pred}} = expit(\\eta) = \\frac{exp(\\eta)}{1 + exp(\\eta)}$ we have\n",
    "$$log\\_loss =  log(1 + exp(\\eta)) - y_{true} \\eta$$"
   ]
  },
  {
   "cell_type": "code",
   "execution_count": 1,
   "metadata": {},
   "outputs": [],
   "source": [
    "%load_ext cython"
   ]
  },
  {
   "cell_type": "code",
   "execution_count": 2,
   "metadata": {},
   "outputs": [],
   "source": [
    "import numpy as np\n",
    "from scipy.special import expit\n",
    "\n",
    "\n",
    "# numpy ufunc version\n",
    "# Note: log1p(exp(x)) is faster than logaddexp(x)\n",
    "def np_logloss(y_true, raw):\n",
    "    # logaddexp(0, x) = log(1 + exp(x))\n",
    "    # return np.logaddexp(0, raw) - y_true * raw\n",
    "    #\n",
    "    # numerically stable, but slower\n",
    "    # pos = raw > 0\n",
    "    # out = - y_true * raw\n",
    "    # out[pos] += raw[pos] + np.log1p(np.exp(-raw[pos]))\n",
    "    # out[~pos] += np.log1p(np.exp(-raw[~pos]))\n",
    "    # return out\n",
    "    #\n",
    "    # return np.where(raw >= 0, raw + np.log1p(np.exp(-raw)) - y_true * raw, np.log1p(np.exp(raw)) - y_true * raw)\n",
    "    #\n",
    "    # fast, but unstable for raw > 700\n",
    "    return np.log1p(np.exp(raw)) - y_true * raw\n",
    "    \n",
    "\n",
    "def np_gradient(y_true, raw):\n",
    "    return expit(raw) - y_true"
   ]
  },
  {
   "cell_type": "code",
   "execution_count": 3,
   "metadata": {},
   "outputs": [],
   "source": [
    "%%cython -3\n",
    "# cython: boundscheck=False\n",
    "# cython: wraparound=False\n",
    "\n",
    "import cython\n",
    "from cython.parallel import prange\n",
    "import numpy as np\n",
    "\n",
    "from libc.math cimport exp, log, log1p\n",
    "cimport numpy as np\n",
    "from scipy.special.cython_special cimport expit\n",
    "\n",
    "np.import_array()\n",
    "\n",
    "\n",
    "cdef double c_logloss(double y_true, double raw) nogil:\n",
    "    if raw <= 0:\n",
    "        return log1p(exp(raw)) - y_true * raw\n",
    "    else:\n",
    "        # log(1 + exp(x)) = x + log(1 + exp(-x))\n",
    "        return raw + log1p(exp(-raw)) - y_true * raw\n",
    "\n",
    "\n",
    "def p_logloss(double[::1] y_true, double[::1] raw):\n",
    "    cdef:\n",
    "        int n_samples\n",
    "        int i\n",
    "        cdef double[::1] out = np.empty_like(y_true)\n",
    "    \n",
    "    n_samples = y_true.shape[0]\n",
    "    for i in range(n_samples):\n",
    "        out[i] = c_logloss(y_true[i], raw[i])\n",
    "        \n",
    "    return out\n",
    "\n",
    "\n",
    "cdef double c_gradient(double y_true, double raw) nogil:\n",
    "        return expit(raw) - y_true\n",
    "\n",
    "\n",
    "def p_gradient(double[::1] y_true, double[::1] raw):\n",
    "    cdef:\n",
    "        int n_samples\n",
    "        int i\n",
    "        cdef double[::1] out = np.empty_like(y_true)\n",
    "    \n",
    "    n_samples = y_true.shape[0]\n",
    "    for i in range(n_samples):\n",
    "        out[i] = c_gradient(y_true[i], raw[i])\n",
    "        \n",
    "    return out\n",
    "\n",
    "\n",
    "cdef class Logloss():\n",
    "    \n",
    "    @staticmethod\n",
    "    cdef double static_logloss(double y_true, double raw) nogil:\n",
    "        if raw <= 0:\n",
    "            return log1p(exp(raw)) - y_true * raw\n",
    "        else:\n",
    "            # log(1 + exp(x)) = x + log(1 + exp(-x))\n",
    "            return raw + log1p(exp(-raw)) - y_true * raw\n",
    "    \n",
    "    @staticmethod\n",
    "    cdef double static_gradient(double y_true, double raw) nogil:\n",
    "            return expit(raw) - y_true\n",
    "\n",
    "    def loss(self, double[::1] y_true, double[::1] raw):\n",
    "        cdef:\n",
    "            int n_samples\n",
    "            int i\n",
    "            cdef double[::1] out = np.empty_like(y_true)\n",
    "        \n",
    "        n_samples = y_true.shape[0]\n",
    "        for i in range(n_samples):\n",
    "            out[i] = Logloss.static_logloss(y_true[i], raw[i])\n",
    "            \n",
    "        return np.asarray(out)\n",
    "    \n",
    "    def gradient(self, double[::1] y_true, double[::1] raw):\n",
    "        cdef:\n",
    "            int n_samples\n",
    "            int i\n",
    "            cdef double[::1] out = np.empty_like(y_true)\n",
    "        \n",
    "        n_samples = y_true.shape[0]\n",
    "        for i in range(n_samples):\n",
    "            out[i] = Logloss.static_gradient(y_true[i], raw[i])\n",
    "            \n",
    "        return np.asarray(out)\n",
    "            \n",
    "\n",
    "cdef class BaseLoss():\n",
    "\n",
    "    cdef double _loss(self, double y_true, double raw) nogil:\n",
    "        return 1.\n",
    "    \n",
    "    cdef double _gradient(self, double y_true, double raw) nogil:\n",
    "        return 1.\n",
    "\n",
    "    def loss(self, double[::1] y_true, double[::1] raw):\n",
    "        cdef:\n",
    "            int n_samples\n",
    "            int i\n",
    "            cdef double[::1] out = np.empty_like(y_true)\n",
    "\n",
    "        n_samples = y_true.shape[0]\n",
    "        for i in range(n_samples):\n",
    "            out[i] = self._loss(y_true[i], raw[i])\n",
    "            \n",
    "        return np.asarray(out)\n",
    "    \n",
    "    def gradient(self, double[::1] y_true, double[::1] raw):\n",
    "        cdef:\n",
    "            int n_samples\n",
    "            int i\n",
    "            cdef double[::1] out = np.empty_like(y_true)\n",
    "\n",
    "        n_samples = y_true.shape[0]\n",
    "        for i in range(n_samples):\n",
    "            out[i] = self._gradient(y_true[i], raw[i])\n",
    "            \n",
    "        return np.asarray(out)\n",
    "\n",
    "\n",
    "cdef class Logloss_virtual(BaseLoss):\n",
    "\n",
    "    cdef double _loss(self, double y_true, double raw) nogil:\n",
    "        if raw <= 0:\n",
    "            return log1p(exp(raw)) - y_true * raw\n",
    "        else:\n",
    "            # log(1 + exp(x)) = x + log(1 + exp(-x))\n",
    "            return raw + log1p(exp(-raw)) - y_true * raw\n",
    "        \n",
    "    cdef double _gradient(self, double y_true, double raw) nogil:\n",
    "        return expit(raw) - y_true"
   ]
  },
  {
   "cell_type": "markdown",
   "metadata": {},
   "source": [
    "### Simple Timings"
   ]
  },
  {
   "cell_type": "code",
   "execution_count": 4,
   "metadata": {},
   "outputs": [],
   "source": [
    "rng = np.random.default_rng(0)\n",
    "y_true = rng.standard_normal(100_000, dtype=np.float64)\n",
    "raw = rng.standard_normal(100_000, dtype=np.float64)"
   ]
  },
  {
   "cell_type": "code",
   "execution_count": 5,
   "metadata": {},
   "outputs": [
    {
     "data": {
      "text/plain": [
       "[1.27675647831893e-14, 1.27675647831893e-14, 1.27675647831893e-14]"
      ]
     },
     "execution_count": 5,
     "metadata": {},
     "output_type": "execute_result"
    }
   ],
   "source": [
    "[np.sum(np_logloss(y_true, raw) - p_logloss(y_true, raw)),\n",
    " np.sum(np_logloss(y_true, raw) - Logloss().loss(y_true, raw)),\n",
    " np.sum(np_logloss(y_true, raw) - Logloss_virtual().loss(y_true, raw))\n",
    "]"
   ]
  },
  {
   "cell_type": "code",
   "execution_count": 6,
   "metadata": {},
   "outputs": [
    {
     "name": "stdout",
     "output_type": "stream",
     "text": [
      "1.49 ms ± 47.2 µs per loop (mean ± std. dev. of 10 runs, 100 loops each)\n"
     ]
    }
   ],
   "source": [
    "%%timeit -r10 -n100\n",
    "np_logloss(y_true, raw)"
   ]
  },
  {
   "cell_type": "code",
   "execution_count": 7,
   "metadata": {},
   "outputs": [
    {
     "name": "stdout",
     "output_type": "stream",
     "text": [
      "3.07 ms ± 641 µs per loop (mean ± std. dev. of 10 runs, 100 loops each)\n"
     ]
    }
   ],
   "source": [
    "%%timeit -r10 -n100\n",
    "p_logloss(y_true, raw)"
   ]
  },
  {
   "cell_type": "code",
   "execution_count": 8,
   "metadata": {},
   "outputs": [
    {
     "name": "stdout",
     "output_type": "stream",
     "text": [
      "3.02 ms ± 429 µs per loop (mean ± std. dev. of 10 runs, 100 loops each)\n"
     ]
    }
   ],
   "source": [
    "%%timeit -r10 -n100\n",
    "Logloss().loss(y_true, raw)"
   ]
  },
  {
   "cell_type": "code",
   "execution_count": 9,
   "metadata": {},
   "outputs": [
    {
     "name": "stdout",
     "output_type": "stream",
     "text": [
      "3.12 ms ± 176 µs per loop (mean ± std. dev. of 10 runs, 100 loops each)\n"
     ]
    }
   ],
   "source": [
    "%%timeit -r10 -n100\n",
    "Logloss_virtual().loss(y_true, raw)"
   ]
  },
  {
   "cell_type": "code",
   "execution_count": 10,
   "metadata": {},
   "outputs": [
    {
     "data": {
      "text/plain": [
       "[0.0, 0.0, 0.0]"
      ]
     },
     "execution_count": 10,
     "metadata": {},
     "output_type": "execute_result"
    }
   ],
   "source": [
    "[np.sum(np_gradient(y_true, raw) - p_gradient(y_true, raw)),\n",
    " np.sum(np_gradient(y_true, raw) - Logloss().gradient(y_true, raw)),\n",
    " np.sum(np_gradient(y_true, raw) - Logloss_virtual().gradient(y_true, raw))\n",
    "]"
   ]
  },
  {
   "cell_type": "code",
   "execution_count": 11,
   "metadata": {},
   "outputs": [
    {
     "name": "stdout",
     "output_type": "stream",
     "text": [
      "882 µs ± 206 µs per loop (mean ± std. dev. of 10 runs, 500 loops each)\n"
     ]
    }
   ],
   "source": [
    "%%timeit -r10 -n500\n",
    "np_gradient(y_true, raw)"
   ]
  },
  {
   "cell_type": "code",
   "execution_count": 12,
   "metadata": {},
   "outputs": [
    {
     "name": "stdout",
     "output_type": "stream",
     "text": [
      "760 µs ± 47.9 µs per loop (mean ± std. dev. of 10 runs, 500 loops each)\n"
     ]
    }
   ],
   "source": [
    "%%timeit -r10 -n500\n",
    "p_gradient(y_true, raw)"
   ]
  },
  {
   "cell_type": "code",
   "execution_count": 13,
   "metadata": {},
   "outputs": [
    {
     "name": "stdout",
     "output_type": "stream",
     "text": [
      "844 µs ± 107 µs per loop (mean ± std. dev. of 10 runs, 500 loops each)\n"
     ]
    }
   ],
   "source": [
    "%%timeit -r10 -n500\n",
    "Logloss().gradient(y_true, raw)"
   ]
  },
  {
   "cell_type": "code",
   "execution_count": 14,
   "metadata": {},
   "outputs": [
    {
     "name": "stdout",
     "output_type": "stream",
     "text": [
      "963 µs ± 104 µs per loop (mean ± std. dev. of 10 runs, 500 loops each)\n"
     ]
    }
   ],
   "source": [
    "%%timeit -r10 -n500\n",
    "Logloss_virtual().gradient(y_true, raw)"
   ]
  },
  {
   "cell_type": "markdown",
   "metadata": {},
   "source": [
    "### Benchmark Loss"
   ]
  },
  {
   "cell_type": "code",
   "execution_count": 15,
   "metadata": {},
   "outputs": [],
   "source": [
    "from collections import OrderedDict\n",
    "import pandas as pd\n",
    "import matplotlib.pyplot as plt\n",
    "import seaborn as sns\n",
    "from neurtu import delayed, timeit, Benchmark\n",
    "\n",
    "\n",
    "# See https://github.com/mwaskom/seaborn/issues/1986\n",
    "#g = sns.FacetGrid(df.wall_time.reset_index(), hue=\"function\", height =5)\n",
    "#g.map(plt.errorbar, \"N\", \"mean\", yerr=df.wall_time.reset_index()['std']);\n",
    "\n",
    "# This works\n",
    "# See https://stackoverflow.com/a/30428808\n",
    "def errplot(x, y, yerr, **kwargs):\n",
    "    ax = plt.gca()\n",
    "    data = kwargs.pop(\"data\")\n",
    "    data.plot(x=x, y=y, yerr=yerr, kind=\"line\", ax=ax, **kwargs)"
   ]
  },
  {
   "cell_type": "code",
   "execution_count": 16,
   "metadata": {},
   "outputs": [],
   "source": [
    "n_samples = 1000_000\n",
    "rng = np.random.default_rng(42)\n",
    "y_pred = rng.standard_normal(n_samples)\n",
    "raw = rng.standard_normal(n_samples)\n",
    "\n",
    "func_list = [(np_logloss, \"np_logloss\"),\n",
    "             (p_logloss, \"p_logloss\"),\n",
    "             (Logloss().loss, \"Logloss().loss\"),\n",
    "             (Logloss_virtual().loss, \"Logloss_virtual().loss\")\n",
    "            ]\n",
    "\n",
    "def benchmark_cases():\n",
    "    for N in np.logspace(np.log10(10), np.log10(n_samples), 10).astype('int'):\n",
    "        for func, name in func_list:\n",
    "            tags = OrderedDict(N=N, function=name)\n",
    "            yield delayed(func, tags=tags)(y_pred[:N], raw[:N])"
   ]
  },
  {
   "cell_type": "code",
   "execution_count": 17,
   "metadata": {},
   "outputs": [
    {
     "data": {
      "application/vnd.jupyter.widget-view+json": {
       "model_id": "e9e5096af81b43cda73793937bf3db14",
       "version_major": 2,
       "version_minor": 0
      },
      "text/plain": [
       "HBox(children=(HTML(value=''), FloatProgress(value=0.0, max=1600.0), HTML(value='')))"
      ]
     },
     "metadata": {},
     "output_type": "display_data"
    },
    {
     "name": "stdout",
     "output_type": "stream",
     "text": [
      "CPU times: user 7min 15s, sys: 28.9 s, total: 7min 44s\n",
      "Wall time: 8min 3s\n"
     ]
    }
   ],
   "source": [
    "%%time\n",
    "bench = Benchmark(wall_time=True, peak_memory=True, repeat=20)\n",
    "df = bench(benchmark_cases())"
   ]
  },
  {
   "cell_type": "code",
   "execution_count": 18,
   "metadata": {},
   "outputs": [
    {
     "data": {
      "text/html": [
       "<div>\n",
       "<style scoped>\n",
       "    .dataframe tbody tr th:only-of-type {\n",
       "        vertical-align: middle;\n",
       "    }\n",
       "\n",
       "    .dataframe tbody tr th {\n",
       "        vertical-align: top;\n",
       "    }\n",
       "\n",
       "    .dataframe thead tr th {\n",
       "        text-align: left;\n",
       "    }\n",
       "\n",
       "    .dataframe thead tr:last-of-type th {\n",
       "        text-align: right;\n",
       "    }\n",
       "</style>\n",
       "<table border=\"1\" class=\"dataframe\">\n",
       "  <thead>\n",
       "    <tr>\n",
       "      <th></th>\n",
       "      <th></th>\n",
       "      <th colspan=\"3\" halign=\"left\">wall_time</th>\n",
       "      <th colspan=\"3\" halign=\"left\">peak_memory</th>\n",
       "    </tr>\n",
       "    <tr>\n",
       "      <th></th>\n",
       "      <th></th>\n",
       "      <th>mean</th>\n",
       "      <th>max</th>\n",
       "      <th>std</th>\n",
       "      <th>mean</th>\n",
       "      <th>max</th>\n",
       "      <th>std</th>\n",
       "    </tr>\n",
       "    <tr>\n",
       "      <th>N</th>\n",
       "      <th>function</th>\n",
       "      <th></th>\n",
       "      <th></th>\n",
       "      <th></th>\n",
       "      <th></th>\n",
       "      <th></th>\n",
       "      <th></th>\n",
       "    </tr>\n",
       "  </thead>\n",
       "  <tbody>\n",
       "    <tr>\n",
       "      <th rowspan=\"4\" valign=\"top\">10</th>\n",
       "      <th>Logloss().loss</th>\n",
       "      <td>0.000007</td>\n",
       "      <td>0.000011</td>\n",
       "      <td>9.903070e-07</td>\n",
       "      <td>0.000000</td>\n",
       "      <td>0.000000</td>\n",
       "      <td>0.000000</td>\n",
       "    </tr>\n",
       "    <tr>\n",
       "      <th>Logloss_virtual().loss</th>\n",
       "      <td>0.000007</td>\n",
       "      <td>0.000013</td>\n",
       "      <td>1.672612e-06</td>\n",
       "      <td>0.000000</td>\n",
       "      <td>0.000000</td>\n",
       "      <td>0.000000</td>\n",
       "    </tr>\n",
       "    <tr>\n",
       "      <th>np_logloss</th>\n",
       "      <td>0.000004</td>\n",
       "      <td>0.000006</td>\n",
       "      <td>9.361720e-07</td>\n",
       "      <td>0.000195</td>\n",
       "      <td>0.003906</td>\n",
       "      <td>0.000873</td>\n",
       "    </tr>\n",
       "    <tr>\n",
       "      <th>p_logloss</th>\n",
       "      <td>0.000007</td>\n",
       "      <td>0.000028</td>\n",
       "      <td>4.940860e-06</td>\n",
       "      <td>0.000000</td>\n",
       "      <td>0.000000</td>\n",
       "      <td>0.000000</td>\n",
       "    </tr>\n",
       "    <tr>\n",
       "      <th>35</th>\n",
       "      <th>Logloss().loss</th>\n",
       "      <td>0.000007</td>\n",
       "      <td>0.000010</td>\n",
       "      <td>7.729920e-07</td>\n",
       "      <td>0.000000</td>\n",
       "      <td>0.000000</td>\n",
       "      <td>0.000000</td>\n",
       "    </tr>\n",
       "  </tbody>\n",
       "</table>\n",
       "</div>"
      ],
      "text/plain": [
       "                          wall_time                         peak_memory  \\\n",
       "                               mean       max           std        mean   \n",
       "N  function                                                               \n",
       "10 Logloss().loss          0.000007  0.000011  9.903070e-07    0.000000   \n",
       "   Logloss_virtual().loss  0.000007  0.000013  1.672612e-06    0.000000   \n",
       "   np_logloss              0.000004  0.000006  9.361720e-07    0.000195   \n",
       "   p_logloss               0.000007  0.000028  4.940860e-06    0.000000   \n",
       "35 Logloss().loss          0.000007  0.000010  7.729920e-07    0.000000   \n",
       "\n",
       "                                               \n",
       "                                max       std  \n",
       "N  function                                    \n",
       "10 Logloss().loss          0.000000  0.000000  \n",
       "   Logloss_virtual().loss  0.000000  0.000000  \n",
       "   np_logloss              0.003906  0.000873  \n",
       "   p_logloss               0.000000  0.000000  \n",
       "35 Logloss().loss          0.000000  0.000000  "
      ]
     },
     "execution_count": 18,
     "metadata": {},
     "output_type": "execute_result"
    }
   ],
   "source": [
    "df.head()"
   ]
  },
  {
   "cell_type": "code",
   "execution_count": 19,
   "metadata": {},
   "outputs": [
    {
     "data": {
      "text/plain": [
       "<seaborn.axisgrid.FacetGrid at 0x7fd3cc0535f8>"
      ]
     },
     "execution_count": 19,
     "metadata": {},
     "output_type": "execute_result"
    },
    {
     "data": {
      "image/png": "[encoded data removed]",
      "text/plain": [
       "<Figure size 620.625x360 with 1 Axes>"
      ]
     },
     "metadata": {
      "needs_background": "light"
     },
     "output_type": "display_data"
    }
   ],
   "source": [
    "g = sns.FacetGrid(df.wall_time.reset_index(), hue=\"function\", height=5, aspect=4/3)\n",
    "g.map_dataframe(errplot, \"N\", \"mean\", \"std\")\n",
    "g.set(xscale=\"log\", yscale=\"log\")\n",
    "g.set_axis_labels(y_var=\"Mean wall time (s)\")\n",
    "g.add_legend()"
   ]
  },
  {
   "cell_type": "code",
   "execution_count": 20,
   "metadata": {},
   "outputs": [
    {
     "data": {
      "text/plain": [
       "Text(0.5, 1.0, 'Ratio of wall time compared to np_logloss')"
      ]
     },
     "execution_count": 20,
     "metadata": {},
     "output_type": "execute_result"
    },
    {
     "data": {
      "image/png": "[encoded data removed]",
      "text/plain": [
       "<Figure size 432x288 with 1 Axes>"
      ]
     },
     "metadata": {
      "needs_background": "light"
     },
     "output_type": "display_data"
    }
   ],
   "source": [
    "df_plot = pd.DataFrame(index=df.index.get_level_values(0))\n",
    "df_plot['p_logloss'] = df.wall_time.unstack(-1).loc[:, ('mean', 'p_logloss')] / df.wall_time.unstack(-1).loc[:, ('mean', 'np_logloss')]\n",
    "df_plot['Logloss().loss'] = df.wall_time.unstack(-1).loc[:, ('mean', 'Logloss().loss')] / df.wall_time.unstack(-1).loc[:, ('mean', 'np_logloss')]\n",
    "df_plot['Logloss_virtual().loss'] = df.wall_time.unstack(-1).loc[:, ('mean', 'Logloss_virtual().loss')] / df.wall_time.unstack(-1).loc[:, ('mean', 'np_logloss')]\n",
    "\n",
    "df_plot.plot()\n",
    "plt.hlines(1, 0, 1e6, color='grey', linestyles='dashed')\n",
    "plt.xscale(\"log\")\n",
    "#plt.yscale(\"log\")\n",
    "plt.ylabel(\"Ratio of wall time function / np_logloss\")\n",
    "plt.title(\"Ratio of wall time compared to np_logloss\")"
   ]
  },
  {
   "cell_type": "code",
   "execution_count": 21,
   "metadata": {},
   "outputs": [
    {
     "data": {
      "text/plain": [
       "<seaborn.axisgrid.FacetGrid at 0x7fd3ce80a668>"
      ]
     },
     "execution_count": 21,
     "metadata": {},
     "output_type": "execute_result"
    },
    {
     "data": {
      "image/png": "[encoded data removed]",
      "text/plain": [
       "<Figure size 620.625x360 with 1 Axes>"
      ]
     },
     "metadata": {
      "needs_background": "light"
     },
     "output_type": "display_data"
    }
   ],
   "source": [
    "g = sns.FacetGrid(df.peak_memory.reset_index(), hue=\"function\", height=5, aspect=4/3)\n",
    "g.map_dataframe(errplot, \"N\", \"mean\", \"std\")\n",
    "g.set(xscale=\"log\", yscale=\"log\")\n",
    "g.set_axis_labels(y_var=\"Mean peak memory\")\n",
    "g.add_legend()"
   ]
  },
  {
   "cell_type": "markdown",
   "metadata": {},
   "source": [
    "### Benchmark Gradient"
   ]
  },
  {
   "cell_type": "code",
   "execution_count": 22,
   "metadata": {},
   "outputs": [],
   "source": [
    "n_samples = 1000_000\n",
    "rng = np.random.default_rng(42)\n",
    "y_pred = rng.standard_normal(n_samples)\n",
    "raw = rng.standard_normal(n_samples)\n",
    "\n",
    "func_list = [(np_gradient, \"np_gradient\"),\n",
    "             (p_gradient, \"p_gradient\"),\n",
    "             (Logloss().gradient, \"Logloss().gradient\"),\n",
    "             (Logloss_virtual().gradient, \"Logloss_virtual().gradient\")\n",
    "            ]\n",
    "\n",
    "def benchmark_cases():\n",
    "    for N in np.logspace(np.log10(10), np.log10(n_samples), 10).astype('int'):\n",
    "        for func, name in func_list:\n",
    "            tags = OrderedDict(N=N, function=name)\n",
    "            yield delayed(func, tags=tags)(y_pred[:N], raw[:N])"
   ]
  },
  {
   "cell_type": "code",
   "execution_count": 23,
   "metadata": {},
   "outputs": [
    {
     "data": {
      "application/vnd.jupyter.widget-view+json": {
       "model_id": "b49df0a59bc84bbf8dd629e4ae9a36c5",
       "version_major": 2,
       "version_minor": 0
      },
      "text/plain": [
       "HBox(children=(HTML(value=''), FloatProgress(value=0.0, max=1600.0), HTML(value='')))"
      ]
     },
     "metadata": {},
     "output_type": "display_data"
    },
    {
     "name": "stdout",
     "output_type": "stream",
     "text": [
      "CPU times: user 6min 57s, sys: 37.8 s, total: 7min 35s\n",
      "Wall time: 8min 8s\n"
     ]
    }
   ],
   "source": [
    "%%time\n",
    "bench = Benchmark(wall_time=True, peak_memory=True, repeat=20)\n",
    "df = bench(benchmark_cases())"
   ]
  },
  {
   "cell_type": "code",
   "execution_count": 24,
   "metadata": {},
   "outputs": [
    {
     "data": {
      "text/plain": [
       "<seaborn.axisgrid.FacetGrid at 0x7fd3ceb27470>"
      ]
     },
     "execution_count": 24,
     "metadata": {},
     "output_type": "execute_result"
    },
    {
     "data": {
      "image/png": "[encoded data removed]",
      "text/plain": [
       "<Figure size 643.5x360 with 1 Axes>"
      ]
     },
     "metadata": {
      "needs_background": "light"
     },
     "output_type": "display_data"
    }
   ],
   "source": [
    "g = sns.FacetGrid(df.wall_time.reset_index(), hue=\"function\", height=5, aspect=4/3)\n",
    "g.map_dataframe(errplot, \"N\", \"mean\", \"std\")\n",
    "g.set(xscale=\"log\", yscale=\"log\")\n",
    "g.set_axis_labels(y_var=\"Mean wall time (s)\")\n",
    "g.add_legend()"
   ]
  },
  {
   "cell_type": "code",
   "execution_count": 25,
   "metadata": {},
   "outputs": [
    {
     "data": {
      "text/plain": [
       "Text(0.5, 1.0, 'Ratio of wall time compared to np_gradient')"
      ]
     },
     "execution_count": 25,
     "metadata": {},
     "output_type": "execute_result"
    },
    {
     "data": {
      "image/png": "[encoded data removed]",
      "text/plain": [
       "<Figure size 432x288 with 1 Axes>"
      ]
     },
     "metadata": {
      "needs_background": "light"
     },
     "output_type": "display_data"
    }
   ],
   "source": [
    "df_plot = pd.DataFrame(index=df.index.get_level_values(0))\n",
    "df_plot['p_gradient'] = df.wall_time.unstack(-1).loc[:, ('mean', 'p_gradient')] / df.wall_time.unstack(-1).loc[:, ('mean', 'np_gradient')]\n",
    "df_plot['Logloss().gradient'] = df.wall_time.unstack(-1).loc[:, ('mean', 'Logloss().gradient')] / df.wall_time.unstack(-1).loc[:, ('mean', 'np_gradient')]\n",
    "df_plot['Logloss_virtual().gradient'] = df.wall_time.unstack(-1).loc[:, ('mean', 'Logloss_virtual().gradient')] / df.wall_time.unstack(-1).loc[:, ('mean', 'np_gradient')]\n",
    "\n",
    "df_plot.plot()\n",
    "plt.hlines(1, 0, 1e6, color='grey', linestyles='dashed')\n",
    "plt.xscale(\"log\")\n",
    "#plt.yscale(\"log\")\n",
    "plt.ylabel(\"Ratio of wall time function / np_gradient\")\n",
    "plt.title(\"Ratio of wall time compared to np_gradient\")"
   ]
  },
  {
   "cell_type": "code",
   "execution_count": 26,
   "metadata": {},
   "outputs": [
    {
     "name": "stderr",
     "output_type": "stream",
     "text": [
      "/Users/lorentzen/github/python3_general/lib/python3.7/site-packages/seaborn/axisgrid.py:49: UserWarning: Data has no positive values, and therefore cannot be log-scaled.\n",
      "  ax.set(**kwargs)\n"
     ]
    },
    {
     "data": {
      "text/plain": [
       "<seaborn.axisgrid.FacetGrid at 0x7fd3cc6ff470>"
      ]
     },
     "execution_count": 26,
     "metadata": {},
     "output_type": "execute_result"
    },
    {
     "data": {
      "image/png": "[encoded data removed]",
      "text/plain": [
       "<Figure size 643.5x360 with 1 Axes>"
      ]
     },
     "metadata": {
      "needs_background": "light"
     },
     "output_type": "display_data"
    }
   ],
   "source": [
    "g = sns.FacetGrid(df.peak_memory.reset_index(), hue=\"function\", height=5, aspect=4/3)\n",
    "g.map_dataframe(errplot, \"N\", \"mean\", \"std\")\n",
    "g.set(xscale=\"log\", yscale=\"log\")\n",
    "g.set_axis_labels(y_var=\"Mean peak memory\")\n",
    "g.add_legend()"
   ]
  },
  {
   "cell_type": "code",
   "execution_count": null,
   "metadata": {},
   "outputs": [],
   "source": []
  }
 ],
 "metadata": {
  "kernelspec": {
   "display_name": "Python 3",
   "language": "python",
   "name": "python3"
  },
  "language_info": {
   "codemirror_mode": {
    "name": "ipython",
    "version": 3
   },
   "file_extension": ".py",
   "mimetype": "text/x-python",
   "name": "python",
   "nbconvert_exporter": "python",
   "pygments_lexer": "ipython3",
   "version": "3.7.2"
  }
 },
 "nbformat": 4,
 "nbformat_minor": 4
}
